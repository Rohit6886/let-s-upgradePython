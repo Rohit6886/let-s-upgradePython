{
  "nbformat": 4,
  "nbformat_minor": 0,
  "metadata": {
    "colab": {
      "name": "Untitled1.ipynb",
      "provenance": [],
      "authorship_tag": "ABX9TyPxMcBn3pyfQr9FIWTSks2q",
      "include_colab_link": true
    },
    "kernelspec": {
      "name": "python3",
      "display_name": "Python 3"
    }
  },
  "cells": [
    {
      "cell_type": "markdown",
      "metadata": {
        "id": "view-in-github",
        "colab_type": "text"
      },
      "source": [
        "<a href=\"https://colab.research.google.com/github/Rohit6886/let-s-upgradePython/blob/master/Untitled1.ipynb\" target=\"_parent\"><img src=\"https://colab.research.google.com/assets/colab-badge.svg\" alt=\"Open In Colab\"/></a>"
      ]
    },
    {
      "cell_type": "code",
      "metadata": {
        "id": "wGdYYSgQs5QS",
        "colab_type": "code",
        "colab": {
          "base_uri": "https://localhost:8080/",
          "height": 51
        },
        "outputId": "b74b124c-d713-4057-c210-bf63cabf436f"
      },
      "source": [
        " \n",
        " \n",
        " \n",
        "n=int(input(\"enter altitude\"))\n",
        " \n",
        "if n==1000:\n",
        " \n",
        "   print(\"safe to land\")\n",
        " \n",
        "elif n==4500:\n",
        " \n",
        "   print(\"Bring down to 1000\")\n",
        " \n",
        "elif n==6500:\n",
        " \n",
        "   print(\"turn around\")"
      ],
      "execution_count": 1,
      "outputs": [
        {
          "output_type": "stream",
          "text": [
            "enter altitude1000\n",
            "safe to land\n"
          ],
          "name": "stdout"
        }
      ]
    }
  ]
}