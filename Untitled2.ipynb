{
  "nbformat": 4,
  "nbformat_minor": 0,
  "metadata": {
    "colab": {
      "name": "Untitled2.ipynb",
      "provenance": [],
      "authorship_tag": "ABX9TyNt1koU6sOp8XThQzOBZCHz",
      "include_colab_link": true
    },
    "kernelspec": {
      "name": "python3",
      "display_name": "Python 3"
    }
  },
  "cells": [
    {
      "cell_type": "markdown",
      "metadata": {
        "id": "view-in-github",
        "colab_type": "text"
      },
      "source": [
        "<a href=\"https://colab.research.google.com/github/Rohit6886/let-s-upgradePython/blob/master/Untitled2.ipynb\" target=\"_parent\"><img src=\"https://colab.research.google.com/assets/colab-badge.svg\" alt=\"Open In Colab\"/></a>"
      ]
    },
    {
      "cell_type": "code",
      "metadata": {
        "id": "CmcL6ayw1G2m",
        "colab_type": "code",
        "colab": {
          "base_uri": "https://localhost:8080/",
          "height": 68
        },
        "outputId": "377cdd9a-9cb6-4bdc-b4c6-be4f7bb0f406"
      },
      "source": [
        " \n",
        " \n",
        " \n",
        "list =[1, \"hi\", 5,8,6,\"hello\"]\n",
        " \n",
        "list.append(20) \n",
        " \n",
        "list.insert(3,5)\n",
        " \n",
        "print (list)\n",
        " \n",
        "print(list.count(5))\n",
        " \n",
        "print(len(list))"
      ],
      "execution_count": 1,
      "outputs": [
        {
          "output_type": "stream",
          "text": [
            "[1, 'hi', 5, 5, 8, 6, 'hello', 20]\n",
            "2\n",
            "8\n"
          ],
          "name": "stdout"
        }
      ]
    }
  ]
}